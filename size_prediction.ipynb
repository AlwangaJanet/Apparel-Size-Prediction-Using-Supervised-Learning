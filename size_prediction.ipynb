{
 "cells": [
  {
   "attachments": {},
   "cell_type": "markdown",
   "id": "ce0474fb-8678-4f7e-93b5-698daee5d68d",
   "metadata": {},
   "source": [
    "## Apparel Size Prediction for Kenyan E-Commerce Using Supervised Learning"
   ]
  },
  {
   "cell_type": "markdown",
   "id": "7e9aa6ac-61a3-45da-9777-cf08e2d4ee7f",
   "metadata": {},
   "source": [
    "**Project Description**  \n",
    "This project focuses on building a predictive model that recommends the most appropriate clothing size (e.g., XS, S, M, L, XL)  \n",
    "for users based on their physical attributes such as height, weight, age, gender, bust, hips, and chest measurements.  \n",
    "The goal is to enhance the online shopping experience by reducing size mismatches and returns—one of the biggest challenges in e-commerce fashion.  "
   ]
  },
  {
   "cell_type": "code",
   "execution_count": 1,
   "id": "d4172f31-1ae2-4118-a560-ebf84afca765",
   "metadata": {},
   "outputs": [],
   "source": [
    "import pandas as pd\n",
    "import numpy as np\n",
    "import matplotlib.pyplot as plt\n",
    "import seaborn as sns"
   ]
  },
  {
   "cell_type": "code",
   "execution_count": 2,
   "id": "660f22f2-aa1b-4a43-a472-333799f466e4",
   "metadata": {},
   "outputs": [],
   "source": [
    "df = pd.read_csv(\"clothing_size_prediction_dataset.csv\")"
   ]
  },
  {
   "cell_type": "code",
   "execution_count": 3,
   "id": "293aee87-19f1-4042-b32e-61f82b87ae69",
   "metadata": {},
   "outputs": [
    {
     "data": {
      "text/html": [
       "<div>\n",
       "<style scoped>\n",
       "    .dataframe tbody tr th:only-of-type {\n",
       "        vertical-align: middle;\n",
       "    }\n",
       "\n",
       "    .dataframe tbody tr th {\n",
       "        vertical-align: top;\n",
       "    }\n",
       "\n",
       "    .dataframe thead th {\n",
       "        text-align: right;\n",
       "    }\n",
       "</style>\n",
       "<table border=\"1\" class=\"dataframe\">\n",
       "  <thead>\n",
       "    <tr style=\"text-align: right;\">\n",
       "      <th></th>\n",
       "      <th>height_cm</th>\n",
       "      <th>weight_kg</th>\n",
       "      <th>age</th>\n",
       "      <th>bust_cm</th>\n",
       "      <th>hips_cm</th>\n",
       "      <th>chest_cm</th>\n",
       "      <th>gender</th>\n",
       "      <th>size_label</th>\n",
       "    </tr>\n",
       "  </thead>\n",
       "  <tbody>\n",
       "    <tr>\n",
       "      <th>0</th>\n",
       "      <td>172.967142</td>\n",
       "      <td>53.288780</td>\n",
       "      <td>59.0</td>\n",
       "      <td>NaN</td>\n",
       "      <td>114.164543</td>\n",
       "      <td>100.80285</td>\n",
       "      <td>Male</td>\n",
       "      <td>XS</td>\n",
       "    </tr>\n",
       "    <tr>\n",
       "      <th>1</th>\n",
       "      <td>166.617357</td>\n",
       "      <td>60.536037</td>\n",
       "      <td>30.0</td>\n",
       "      <td>106.692469</td>\n",
       "      <td>104.138267</td>\n",
       "      <td>NaN</td>\n",
       "      <td>Female</td>\n",
       "      <td>S</td>\n",
       "    </tr>\n",
       "    <tr>\n",
       "      <th>2</th>\n",
       "      <td>174.476885</td>\n",
       "      <td>55.869097</td>\n",
       "      <td>58.0</td>\n",
       "      <td>81.157240</td>\n",
       "      <td>109.416462</td>\n",
       "      <td>NaN</td>\n",
       "      <td>Female</td>\n",
       "      <td>S</td>\n",
       "    </tr>\n",
       "    <tr>\n",
       "      <th>3</th>\n",
       "      <td>183.230299</td>\n",
       "      <td>61.780063</td>\n",
       "      <td>23.0</td>\n",
       "      <td>85.127791</td>\n",
       "      <td>97.886097</td>\n",
       "      <td>NaN</td>\n",
       "      <td>Female</td>\n",
       "      <td>S</td>\n",
       "    </tr>\n",
       "    <tr>\n",
       "      <th>4</th>\n",
       "      <td>165.658466</td>\n",
       "      <td>66.787745</td>\n",
       "      <td>NaN</td>\n",
       "      <td>92.123801</td>\n",
       "      <td>85.230682</td>\n",
       "      <td>NaN</td>\n",
       "      <td>Female</td>\n",
       "      <td>M</td>\n",
       "    </tr>\n",
       "  </tbody>\n",
       "</table>\n",
       "</div>"
      ],
      "text/plain": [
       "    height_cm  weight_kg   age     bust_cm     hips_cm   chest_cm  gender  \\\n",
       "0  172.967142  53.288780  59.0         NaN  114.164543  100.80285    Male   \n",
       "1  166.617357  60.536037  30.0  106.692469  104.138267        NaN  Female   \n",
       "2  174.476885  55.869097  58.0   81.157240  109.416462        NaN  Female   \n",
       "3  183.230299  61.780063  23.0   85.127791   97.886097        NaN  Female   \n",
       "4  165.658466  66.787745   NaN   92.123801   85.230682        NaN  Female   \n",
       "\n",
       "  size_label  \n",
       "0         XS  \n",
       "1          S  \n",
       "2          S  \n",
       "3          S  \n",
       "4          M  "
      ]
     },
     "execution_count": 3,
     "metadata": {},
     "output_type": "execute_result"
    }
   ],
   "source": [
    "df.head()"
   ]
  },
  {
   "cell_type": "code",
   "execution_count": 4,
   "id": "709e5d4b-44b9-432d-8428-22e9920ab7bd",
   "metadata": {},
   "outputs": [
    {
     "name": "stdout",
     "output_type": "stream",
     "text": [
      "Initial Data Overview:\n",
      "<class 'pandas.core.frame.DataFrame'>\n",
      "RangeIndex: 6000 entries, 0 to 5999\n",
      "Data columns (total 8 columns):\n",
      " #   Column      Non-Null Count  Dtype  \n",
      "---  ------      --------------  -----  \n",
      " 0   height_cm   5700 non-null   float64\n",
      " 1   weight_kg   5700 non-null   float64\n",
      " 2   age         5700 non-null   float64\n",
      " 3   bust_cm     2854 non-null   float64\n",
      " 4   hips_cm     5700 non-null   float64\n",
      " 5   chest_cm    2862 non-null   float64\n",
      " 6   gender      6000 non-null   object \n",
      " 7   size_label  6000 non-null   object \n",
      "dtypes: float64(6), object(2)\n",
      "memory usage: 375.1+ KB\n",
      "None\n"
     ]
    }
   ],
   "source": [
    "# Check initial data info\n",
    "print(\"Initial Data Overview:\")\n",
    "print(df.info())"
   ]
  },
  {
   "cell_type": "markdown",
   "id": "3c06fc2e-54bc-4000-a765-661e60378209",
   "metadata": {},
   "source": [
    "# Checking and filling missing values"
   ]
  },
  {
   "cell_type": "code",
   "execution_count": 5,
   "id": "4ef09c2f-6a71-4ca1-9e12-6a8efb09ebf6",
   "metadata": {},
   "outputs": [
    {
     "name": "stdout",
     "output_type": "stream",
     "text": [
      "Missing values per column:\n",
      "height_cm      300\n",
      "weight_kg      300\n",
      "age            300\n",
      "bust_cm       3146\n",
      "hips_cm        300\n",
      "chest_cm      3138\n",
      "gender           0\n",
      "size_label       0\n",
      "dtype: int64\n"
     ]
    }
   ],
   "source": [
    "# Check missing values\n",
    "print(\"Missing values per column:\")\n",
    "print(df.isnull().sum())"
   ]
  },
  {
   "cell_type": "code",
   "execution_count": 6,
   "id": "d110c1c6-6990-4786-9cb4-4cea863812a2",
   "metadata": {},
   "outputs": [],
   "source": [
    "# Drop rows where target 'size_label' is missing\n",
    "df = df.dropna(subset=['size_label'])"
   ]
  },
  {
   "cell_type": "code",
   "execution_count": 7,
   "id": "a889aa62-26a1-4ea4-943d-756b4287a92f",
   "metadata": {},
   "outputs": [],
   "source": [
    "# Fill numeric columns with median\n",
    "for col in ['height_cm', 'weight_kg', 'age', 'bust_cm', 'hips_cm', 'chest_cm']:\n",
    "    df[col] = df[col].fillna(df[col].median())"
   ]
  },
  {
   "cell_type": "code",
   "execution_count": 8,
   "id": "739de037-8722-4fd2-b5e5-5c9ff4b5af3f",
   "metadata": {},
   "outputs": [
    {
     "name": "stdout",
     "output_type": "stream",
     "text": [
      "After cleaning, missing values:\n",
      "height_cm     0\n",
      "weight_kg     0\n",
      "age           0\n",
      "bust_cm       0\n",
      "hips_cm       0\n",
      "chest_cm      0\n",
      "gender        0\n",
      "size_label    0\n",
      "dtype: int64\n"
     ]
    }
   ],
   "source": [
    "# Confirm all missing values handled\n",
    "print(\"After cleaning, missing values:\")\n",
    "print(df.isnull().sum())"
   ]
  },
  {
   "cell_type": "code",
   "execution_count": 9,
   "id": "3661aad6-f550-4926-813b-e0c1b57657ae",
   "metadata": {},
   "outputs": [
    {
     "data": {
      "text/html": [
       "<div>\n",
       "<style scoped>\n",
       "    .dataframe tbody tr th:only-of-type {\n",
       "        vertical-align: middle;\n",
       "    }\n",
       "\n",
       "    .dataframe tbody tr th {\n",
       "        vertical-align: top;\n",
       "    }\n",
       "\n",
       "    .dataframe thead th {\n",
       "        text-align: right;\n",
       "    }\n",
       "</style>\n",
       "<table border=\"1\" class=\"dataframe\">\n",
       "  <thead>\n",
       "    <tr style=\"text-align: right;\">\n",
       "      <th></th>\n",
       "      <th>height_cm</th>\n",
       "      <th>weight_kg</th>\n",
       "      <th>age</th>\n",
       "      <th>bust_cm</th>\n",
       "      <th>hips_cm</th>\n",
       "      <th>chest_cm</th>\n",
       "      <th>gender</th>\n",
       "      <th>size_label</th>\n",
       "    </tr>\n",
       "  </thead>\n",
       "  <tbody>\n",
       "    <tr>\n",
       "      <th>0</th>\n",
       "      <td>172.967142</td>\n",
       "      <td>53.288780</td>\n",
       "      <td>59.0</td>\n",
       "      <td>90.295917</td>\n",
       "      <td>114.164543</td>\n",
       "      <td>100.802850</td>\n",
       "      <td>Male</td>\n",
       "      <td>XS</td>\n",
       "    </tr>\n",
       "    <tr>\n",
       "      <th>1</th>\n",
       "      <td>166.617357</td>\n",
       "      <td>60.536037</td>\n",
       "      <td>30.0</td>\n",
       "      <td>106.692469</td>\n",
       "      <td>104.138267</td>\n",
       "      <td>99.702292</td>\n",
       "      <td>Female</td>\n",
       "      <td>S</td>\n",
       "    </tr>\n",
       "    <tr>\n",
       "      <th>2</th>\n",
       "      <td>174.476885</td>\n",
       "      <td>55.869097</td>\n",
       "      <td>58.0</td>\n",
       "      <td>81.157240</td>\n",
       "      <td>109.416462</td>\n",
       "      <td>99.702292</td>\n",
       "      <td>Female</td>\n",
       "      <td>S</td>\n",
       "    </tr>\n",
       "    <tr>\n",
       "      <th>3</th>\n",
       "      <td>183.230299</td>\n",
       "      <td>61.780063</td>\n",
       "      <td>23.0</td>\n",
       "      <td>85.127791</td>\n",
       "      <td>97.886097</td>\n",
       "      <td>99.702292</td>\n",
       "      <td>Female</td>\n",
       "      <td>S</td>\n",
       "    </tr>\n",
       "    <tr>\n",
       "      <th>4</th>\n",
       "      <td>165.658466</td>\n",
       "      <td>66.787745</td>\n",
       "      <td>41.0</td>\n",
       "      <td>92.123801</td>\n",
       "      <td>85.230682</td>\n",
       "      <td>99.702292</td>\n",
       "      <td>Female</td>\n",
       "      <td>M</td>\n",
       "    </tr>\n",
       "  </tbody>\n",
       "</table>\n",
       "</div>"
      ],
      "text/plain": [
       "    height_cm  weight_kg   age     bust_cm     hips_cm    chest_cm  gender  \\\n",
       "0  172.967142  53.288780  59.0   90.295917  114.164543  100.802850    Male   \n",
       "1  166.617357  60.536037  30.0  106.692469  104.138267   99.702292  Female   \n",
       "2  174.476885  55.869097  58.0   81.157240  109.416462   99.702292  Female   \n",
       "3  183.230299  61.780063  23.0   85.127791   97.886097   99.702292  Female   \n",
       "4  165.658466  66.787745  41.0   92.123801   85.230682   99.702292  Female   \n",
       "\n",
       "  size_label  \n",
       "0         XS  \n",
       "1          S  \n",
       "2          S  \n",
       "3          S  \n",
       "4          M  "
      ]
     },
     "execution_count": 9,
     "metadata": {},
     "output_type": "execute_result"
    }
   ],
   "source": [
    "df.head()"
   ]
  },
  {
   "cell_type": "code",
   "execution_count": 10,
   "id": "5021bd42-ac33-4097-b49e-6a6c241b24c5",
   "metadata": {},
   "outputs": [
    {
     "name": "stdout",
     "output_type": "stream",
     "text": [
      "<class 'pandas.core.frame.DataFrame'>\n",
      "RangeIndex: 6000 entries, 0 to 5999\n",
      "Data columns (total 8 columns):\n",
      " #   Column      Non-Null Count  Dtype  \n",
      "---  ------      --------------  -----  \n",
      " 0   height_cm   6000 non-null   float64\n",
      " 1   weight_kg   6000 non-null   float64\n",
      " 2   age         6000 non-null   float64\n",
      " 3   bust_cm     6000 non-null   float64\n",
      " 4   hips_cm     6000 non-null   float64\n",
      " 5   chest_cm    6000 non-null   float64\n",
      " 6   gender      6000 non-null   object \n",
      " 7   size_label  6000 non-null   object \n",
      "dtypes: float64(6), object(2)\n",
      "memory usage: 375.1+ KB\n"
     ]
    }
   ],
   "source": [
    "df.info()"
   ]
  },
  {
   "cell_type": "code",
   "execution_count": 11,
   "id": "5fcead0f-b28c-4c38-a7af-769a01c21f5c",
   "metadata": {},
   "outputs": [
    {
     "data": {
      "text/html": [
       "<div>\n",
       "<style scoped>\n",
       "    .dataframe tbody tr th:only-of-type {\n",
       "        vertical-align: middle;\n",
       "    }\n",
       "\n",
       "    .dataframe tbody tr th {\n",
       "        vertical-align: top;\n",
       "    }\n",
       "\n",
       "    .dataframe thead th {\n",
       "        text-align: right;\n",
       "    }\n",
       "</style>\n",
       "<table border=\"1\" class=\"dataframe\">\n",
       "  <thead>\n",
       "    <tr style=\"text-align: right;\">\n",
       "      <th></th>\n",
       "      <th>height_cm</th>\n",
       "      <th>weight_kg</th>\n",
       "      <th>age</th>\n",
       "      <th>bust_cm</th>\n",
       "      <th>hips_cm</th>\n",
       "      <th>chest_cm</th>\n",
       "    </tr>\n",
       "  </thead>\n",
       "  <tbody>\n",
       "    <tr>\n",
       "      <th>count</th>\n",
       "      <td>6000.000000</td>\n",
       "      <td>6000.000000</td>\n",
       "      <td>6000.000000</td>\n",
       "      <td>6000.000000</td>\n",
       "      <td>6000.000000</td>\n",
       "      <td>6000.000000</td>\n",
       "    </tr>\n",
       "    <tr>\n",
       "      <th>mean</th>\n",
       "      <td>168.749763</td>\n",
       "      <td>70.494589</td>\n",
       "      <td>41.147667</td>\n",
       "      <td>90.212018</td>\n",
       "      <td>94.972634</td>\n",
       "      <td>99.753287</td>\n",
       "    </tr>\n",
       "    <tr>\n",
       "      <th>std</th>\n",
       "      <td>12.437727</td>\n",
       "      <td>15.977374</td>\n",
       "      <td>13.236820</td>\n",
       "      <td>6.892263</td>\n",
       "      <td>9.550898</td>\n",
       "      <td>6.958462</td>\n",
       "    </tr>\n",
       "    <tr>\n",
       "      <th>min</th>\n",
       "      <td>135.587327</td>\n",
       "      <td>30.000000</td>\n",
       "      <td>18.000000</td>\n",
       "      <td>56.651073</td>\n",
       "      <td>58.449135</td>\n",
       "      <td>55.343961</td>\n",
       "    </tr>\n",
       "    <tr>\n",
       "      <th>25%</th>\n",
       "      <td>161.749954</td>\n",
       "      <td>60.568568</td>\n",
       "      <td>30.000000</td>\n",
       "      <td>90.295917</td>\n",
       "      <td>88.588033</td>\n",
       "      <td>99.702292</td>\n",
       "    </tr>\n",
       "    <tr>\n",
       "      <th>50%</th>\n",
       "      <td>168.140393</td>\n",
       "      <td>69.940923</td>\n",
       "      <td>41.000000</td>\n",
       "      <td>90.295917</td>\n",
       "      <td>94.986812</td>\n",
       "      <td>99.702292</td>\n",
       "    </tr>\n",
       "    <tr>\n",
       "      <th>75%</th>\n",
       "      <td>174.452557</td>\n",
       "      <td>79.734226</td>\n",
       "      <td>52.000000</td>\n",
       "      <td>90.295917</td>\n",
       "      <td>101.155905</td>\n",
       "      <td>99.702292</td>\n",
       "    </tr>\n",
       "    <tr>\n",
       "      <th>max</th>\n",
       "      <td>250.000000</td>\n",
       "      <td>186.612810</td>\n",
       "      <td>64.000000</td>\n",
       "      <td>129.423310</td>\n",
       "      <td>131.113501</td>\n",
       "      <td>136.916245</td>\n",
       "    </tr>\n",
       "  </tbody>\n",
       "</table>\n",
       "</div>"
      ],
      "text/plain": [
       "         height_cm    weight_kg          age      bust_cm      hips_cm  \\\n",
       "count  6000.000000  6000.000000  6000.000000  6000.000000  6000.000000   \n",
       "mean    168.749763    70.494589    41.147667    90.212018    94.972634   \n",
       "std      12.437727    15.977374    13.236820     6.892263     9.550898   \n",
       "min     135.587327    30.000000    18.000000    56.651073    58.449135   \n",
       "25%     161.749954    60.568568    30.000000    90.295917    88.588033   \n",
       "50%     168.140393    69.940923    41.000000    90.295917    94.986812   \n",
       "75%     174.452557    79.734226    52.000000    90.295917   101.155905   \n",
       "max     250.000000   186.612810    64.000000   129.423310   131.113501   \n",
       "\n",
       "          chest_cm  \n",
       "count  6000.000000  \n",
       "mean     99.753287  \n",
       "std       6.958462  \n",
       "min      55.343961  \n",
       "25%      99.702292  \n",
       "50%      99.702292  \n",
       "75%      99.702292  \n",
       "max     136.916245  "
      ]
     },
     "execution_count": 11,
     "metadata": {},
     "output_type": "execute_result"
    }
   ],
   "source": [
    "df.describe()"
   ]
  },
  {
   "cell_type": "code",
   "execution_count": null,
   "id": "02705560-6572-4d20-baef-59f6250f2b89",
   "metadata": {},
   "outputs": [],
   "source": []
  }
 ],
 "metadata": {
  "kernelspec": {
   "display_name": "janet",
   "language": "python",
   "name": "python3"
  },
  "language_info": {
   "codemirror_mode": {
    "name": "ipython",
    "version": 3
   },
   "file_extension": ".py",
   "mimetype": "text/x-python",
   "name": "python",
   "nbconvert_exporter": "python",
   "pygments_lexer": "ipython3",
   "version": "3.11.6"
  }
 },
 "nbformat": 4,
 "nbformat_minor": 5
}
